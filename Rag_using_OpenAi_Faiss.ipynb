{
  "nbformat": 4,
  "nbformat_minor": 0,
  "metadata": {
    "colab": {
      "provenance": [],
      "authorship_tag": "ABX9TyOw6fUA2FSAOlchQD5L1Aqe",
      "include_colab_link": true
    },
    "kernelspec": {
      "name": "python3",
      "display_name": "Python 3"
    },
    "language_info": {
      "name": "python"
    }
  },
  "cells": [
    {
      "cell_type": "markdown",
      "metadata": {
        "id": "view-in-github",
        "colab_type": "text"
      },
      "source": [
        "<a href=\"https://colab.research.google.com/github/RaoSaeed836/Generative_AI/blob/main/Rag_using_OpenAi_Faiss.ipynb\" target=\"_parent\"><img src=\"https://colab.research.google.com/assets/colab-badge.svg\" alt=\"Open In Colab\"/></a>"
      ]
    },
    {
      "cell_type": "markdown",
      "source": [
        "###installing the necessary library"
      ],
      "metadata": {
        "id": "vkQoQrmVTqv6"
      }
    },
    {
      "cell_type": "code",
      "execution_count": 4,
      "metadata": {
        "colab": {
          "base_uri": "https://localhost:8080/"
        },
        "id": "WoMWP2kGS5gj",
        "outputId": "22b5e3ed-921b-4391-e389-4f861cebd364"
      },
      "outputs": [
        {
          "output_type": "stream",
          "name": "stdout",
          "text": [
            "\u001b[?25l   \u001b[90m━━━━━━━━━━━━━━━━━━━━━━━━━━━━━━━━━━━━━━━━\u001b[0m \u001b[32m0.0/74.5 kB\u001b[0m \u001b[31m?\u001b[0m eta \u001b[36m-:--:--\u001b[0m\r\u001b[2K   \u001b[91m━━━━━━━━━━━━━━━━━━━━━━━━━━━━━━━━━━━━━━\u001b[0m\u001b[90m╺\u001b[0m\u001b[90m━\u001b[0m \u001b[32m71.7/74.5 kB\u001b[0m \u001b[31m2.3 MB/s\u001b[0m eta \u001b[36m0:00:01\u001b[0m\r\u001b[2K   \u001b[90m━━━━━━━━━━━━━━━━━━━━━━━━━━━━━━━━━━━━━━━━\u001b[0m \u001b[32m74.5/74.5 kB\u001b[0m \u001b[31m1.8 MB/s\u001b[0m eta \u001b[36m0:00:00\u001b[0m\n",
            "\u001b[?25h"
          ]
        }
      ],
      "source": [
        "!pip install -qU \"langchain[openai]\""
      ]
    },
    {
      "cell_type": "markdown",
      "source": [
        "###Fetching open api kry"
      ],
      "metadata": {
        "id": "KF58ovG_TwZ9"
      }
    },
    {
      "cell_type": "code",
      "source": [
        "from google.colab import userdata\n",
        "OPEN_API_KEY=userdata.get('OPEN_API_KEY')"
      ],
      "metadata": {
        "id": "gmvoP_QfVguX"
      },
      "execution_count": 9,
      "outputs": []
    },
    {
      "cell_type": "markdown",
      "source": [
        "###Setting Envoirnment Vaiable"
      ],
      "metadata": {
        "id": "axxLomewWB38"
      }
    },
    {
      "cell_type": "code",
      "source": [
        "import os\n",
        "os.environ[\"OPEN_API_KEY\"]=OPEN_API_KEY\n"
      ],
      "metadata": {
        "id": "13augkd_VhVV"
      },
      "execution_count": 10,
      "outputs": []
    },
    {
      "cell_type": "markdown",
      "source": [
        "1.DATA INGESTION\n",
        "2.DATA RETERIVAL\n",
        "DATA GENERATION\n"
      ],
      "metadata": {
        "id": "Ym7mH_13WZn9"
      }
    },
    {
      "cell_type": "markdown",
      "source": [
        "###Data ingestion"
      ],
      "metadata": {
        "id": "1L8m8CrSWn4t"
      }
    },
    {
      "cell_type": "code",
      "source": [
        "import requests\n",
        "from langchain.document_loaders import TextLoader\n",
        "from langchain.vectorstores import FAISS"
      ],
      "metadata": {
        "id": "daqXmqmPVhQm"
      },
      "execution_count": 1,
      "outputs": []
    },
    {
      "cell_type": "markdown",
      "source": [
        "###getting data different resources"
      ],
      "metadata": {
        "id": "Y70iFLHqZ5ZZ"
      }
    },
    {
      "cell_type": "code",
      "source": [
        "url=\"\""
      ],
      "metadata": {
        "id": "chpHE_hZVhPJ"
      },
      "execution_count": null,
      "outputs": []
    },
    {
      "cell_type": "code",
      "source": [
        "response=requests.get(url)"
      ],
      "metadata": {
        "id": "96F_HhozYcjk"
      },
      "execution_count": null,
      "outputs": []
    },
    {
      "cell_type": "code",
      "source": [
        "response.text"
      ],
      "metadata": {
        "id": "evs-Wv47Ychk"
      },
      "execution_count": null,
      "outputs": []
    },
    {
      "cell_type": "code",
      "source": [
        "raw_data=response.text"
      ],
      "metadata": {
        "id": "Tk1k6R7TYceQ"
      },
      "execution_count": null,
      "outputs": []
    },
    {
      "cell_type": "code",
      "source": [
        "with open(\"\") as f:\n",
        "  f.write(raw_data)"
      ],
      "metadata": {
        "id": "WIaf_koOYccW"
      },
      "execution_count": null,
      "outputs": []
    },
    {
      "cell_type": "markdown",
      "source": [
        "###load the data"
      ],
      "metadata": {
        "id": "TL7ng7DlaAxh"
      }
    },
    {
      "cell_type": "code",
      "source": [
        "loader=TextLoader(\"\")"
      ],
      "metadata": {
        "id": "7wddYgprYcXh"
      },
      "execution_count": 16,
      "outputs": []
    },
    {
      "cell_type": "code",
      "source": [
        "document=loader.load()"
      ],
      "metadata": {
        "id": "Gv785APhYcSY"
      },
      "execution_count": 18,
      "outputs": []
    },
    {
      "cell_type": "markdown",
      "source": [
        "###Chunking data"
      ],
      "metadata": {
        "id": "SfBORhZlZ0t_"
      }
    },
    {
      "cell_type": "code",
      "source": [
        "from langchain.text_splitter import RecursiveCharacterTextSplitter"
      ],
      "metadata": {
        "id": "g8WWUHpYYcQZ"
      },
      "execution_count": 3,
      "outputs": []
    },
    {
      "cell_type": "code",
      "source": [],
      "metadata": {
        "id": "DkVVCXzzbp8E"
      },
      "execution_count": null,
      "outputs": []
    },
    {
      "cell_type": "code",
      "source": [
        "text_splitter=RecursiveCharacterTextSplitter(chunk_size=500,chunk_overlap=50)"
      ],
      "metadata": {
        "id": "-P0p0s0TYcM3"
      },
      "execution_count": 5,
      "outputs": []
    },
    {
      "cell_type": "code",
      "source": [
        "text_chunks=text_splitter.split_documents(document)"
      ],
      "metadata": {
        "id": "s6zuSm2HYcLS"
      },
      "execution_count": 20,
      "outputs": []
    },
    {
      "cell_type": "markdown",
      "source": [
        "###Embedding"
      ],
      "metadata": {
        "id": "jNe55bjEcRtZ"
      }
    },
    {
      "cell_type": "code",
      "source": [
        "!pip install -qU langchain-community faiss-cpu"
      ],
      "metadata": {
        "colab": {
          "base_uri": "https://localhost:8080/"
        },
        "id": "zuLhejKQcRag",
        "outputId": "e072b639-b41a-4989-fef1-16f67d9e3d34"
      },
      "execution_count": 6,
      "outputs": [
        {
          "output_type": "stream",
          "name": "stdout",
          "text": [
            "\u001b[2K   \u001b[90m━━━━━━━━━━━━━━━━━━━━━━━━━━━━━━━━━━━━━━━━\u001b[0m \u001b[32m31.4/31.4 MB\u001b[0m \u001b[31m47.7 MB/s\u001b[0m eta \u001b[36m0:00:00\u001b[0m\n",
            "\u001b[?25h"
          ]
        }
      ]
    },
    {
      "cell_type": "code",
      "source": [
        "from langchain_openai import OpenAIEmbeddings\n",
        "from langchain_community.vectorstores import FAISS\n"
      ],
      "metadata": {
        "id": "o-Oxq6J7YcIQ"
      },
      "execution_count": 7,
      "outputs": []
    },
    {
      "cell_type": "code",
      "source": [
        "embeddings = OpenAIEmbeddings(openai_api_key=OPEN_API_KEY)"
      ],
      "metadata": {
        "id": "LahJtz6mYcGR"
      },
      "execution_count": 12,
      "outputs": []
    },
    {
      "cell_type": "code",
      "source": [
        "vector_store=FAISS.from_documents(text_chunks,embeddings)"
      ],
      "metadata": {
        "id": "ABhqLPmbVhLi"
      },
      "execution_count": 21,
      "outputs": []
    },
    {
      "cell_type": "code",
      "source": [
        "retriver=vector_store.as_retriever()"
      ],
      "metadata": {
        "id": "Hix-2EbKVhKU"
      },
      "execution_count": 23,
      "outputs": []
    },
    {
      "cell_type": "code",
      "source": [
        "from langchain.prompts import ChatPromptTemplate"
      ],
      "metadata": {
        "id": "SFzDEVArd3OD"
      },
      "execution_count": 24,
      "outputs": []
    },
    {
      "cell_type": "code",
      "source": [
        "template = \"\"\"\n",
        "You are a helpful and intelligent assistant.\n",
        "\n",
        "Context:\n",
        "{context}\n",
        "\n",
        "User Prompt:\n",
        "{prompt}\n",
        "\n",
        "Please analyze the context and then respond to the prompt accordingly with detailed and thoughtful output.\n",
        "\"\"\"\n",
        "\n",
        "prompt = ChatPromptTemplate(\n",
        "    input_variables=[\"context\", \"prompt\"],\n",
        "    template=template\n",
        ")\n"
      ],
      "metadata": {
        "id": "Z4ZSPfj4erqA"
      },
      "execution_count": null,
      "outputs": []
    },
    {
      "cell_type": "code",
      "source": [
        "from langchain_openai import ChatOpenAI\n",
        "from langchain.schema.runnable import RunnablePassthrough\n",
        "from langchain.schema.output_parser import StrOutputParser\n"
      ],
      "metadata": {
        "id": "2EW3aeeNfC01"
      },
      "execution_count": 26,
      "outputs": []
    },
    {
      "cell_type": "code",
      "source": [
        "llm=ChatOpenAI()"
      ],
      "metadata": {
        "id": "vyCxoUlggL-8"
      },
      "execution_count": 28,
      "outputs": []
    },
    {
      "cell_type": "code",
      "source": [
        "\n",
        "parser=StrOutputParser()"
      ],
      "metadata": {
        "id": "6ct6XJigfCyb"
      },
      "execution_count": 27,
      "outputs": []
    },
    {
      "cell_type": "code",
      "source": [
        "#This is the langchain expresion language\n",
        "rag_chain=(\n",
        "    {\"context\":retriver,\"question\":RunnablePassthrough()}\n",
        "    |prompt\n",
        "    |llm\n",
        "    |parser\n",
        ")"
      ],
      "metadata": {
        "id": "HXSzphmsfCvm"
      },
      "execution_count": null,
      "outputs": []
    },
    {
      "cell_type": "code",
      "source": [
        "rag_chain.invoke(\"\")"
      ],
      "metadata": {
        "id": "8fS5vFeYfCsq"
      },
      "execution_count": null,
      "outputs": []
    }
  ]
}